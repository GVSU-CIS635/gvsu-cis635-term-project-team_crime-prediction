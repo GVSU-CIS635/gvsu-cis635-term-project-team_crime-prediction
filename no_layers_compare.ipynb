{
  "nbformat": 4,
  "nbformat_minor": 0,
  "metadata": {
    "colab": {
      "provenance": [],
      "authorship_tag": "ABX9TyPRFlLRJ8FFXKwrA4yipI7u",
      "include_colab_link": true
    },
    "kernelspec": {
      "name": "python3",
      "display_name": "Python 3"
    },
    "language_info": {
      "name": "python"
    }
  },
  "cells": [
    {
      "cell_type": "markdown",
      "metadata": {
        "id": "view-in-github",
        "colab_type": "text"
      },
      "source": [
        "<a href=\"https://colab.research.google.com/github/GVSU-CIS635/gvsu-cis635-term-project-team_crime-prediction/blob/main/no_layers_compare.ipynb\" target=\"_parent\"><img src=\"https://colab.research.google.com/assets/colab-badge.svg\" alt=\"Open In Colab\"/></a>"
      ]
    },
    {
      "cell_type": "code",
      "execution_count": 46,
      "metadata": {
        "id": "yHXnvDGa9bUI"
      },
      "outputs": [],
      "source": [
        "import datetime\n",
        "import pandas as pd\n",
        "import numpy as np\n",
        "import matplotlib.pyplot as plt\n",
        "from mpl_toolkits.mplot3d import Axes3D\n",
        "import matplotlib.dates as mdates"
      ]
    },
    {
      "cell_type": "code",
      "source": [
        "training_data = pd.read_csv('https://raw.githubusercontent.com/GVSU-CIS635/gvsu-cis635-term-project-team_crime-prediction/main/test2.csv')\n"
      ],
      "metadata": {
        "id": "LUy5zVzT9dje"
      },
      "execution_count": 64,
      "outputs": []
    },
    {
      "cell_type": "code",
      "source": [
        "# Define the grid dimensions\n",
        "x_min, x_max = 7603950, 7717500\n",
        "y_min, y_max = 651190, 733990\n",
        "num_cells_x = int((x_max - x_min) / 600)\n",
        "num_cells_y = int((y_max - y_min) / 600)\n",
        "print(x_min, x_max)\n",
        "print(y_min, y_max)\n"
      ],
      "metadata": {
        "colab": {
          "base_uri": "https://localhost:8080/"
        },
        "id": "BiZ6lTK09fml",
        "outputId": "cfd99576-3a97-4bcd-8d62-535bc4bcf746"
      },
      "execution_count": 65,
      "outputs": [
        {
          "output_type": "stream",
          "name": "stdout",
          "text": [
            "7603950 7717500\n",
            "651190 733990\n"
          ]
        }
      ]
    },
    {
      "cell_type": "code",
      "source": [
        "\n",
        "def countcells(points):\n",
        "  indices_x = np.digitize(points[:, 0], np.linspace(x_min, x_max, num_cells_x))\n",
        "  indices_y = np.digitize(points[:, 1], np.linspace(y_min, y_max, num_cells_y))\n",
        "\n",
        "  count_per_cell = np.zeros((num_cells_x, num_cells_y))\n",
        "\n",
        "  for i in range(len(points)):\n",
        "      x_idx = indices_x[i] - 1\n",
        "      y_idx = indices_y[i] - 1\n",
        "\n",
        "      count_per_cell[x_idx, y_idx] += 1\n",
        "  return count_per_cell\n",
        "start_date = pd.to_datetime('03/01/12', format='%m/%d/%y')\n",
        "end_date = pd.to_datetime('8/31/12', format='%m/%d/%y')\n",
        "# Convert 'occ_date' column to ordinal format\n",
        "training_data['occ_date'] = pd.to_datetime(training_data['occ_date'], format='%m/%d/%y')\n",
        "\n",
        "filtered_data = training_data[(training_data['occ_date'] >= start_date) & (training_data['occ_date'] <= end_date)]\n",
        "\n",
        "filtered_data['occ_date'] = filtered_data['occ_date'].apply(mdates.date2num)\n",
        "\n",
        "# Assign points to the grid\n",
        "points = filtered_data[['x_coordinate', 'y_coordinate', 'occ_date']].values\n",
        "count_per_cell_train = countcells(points)"
      ],
      "metadata": {
        "colab": {
          "base_uri": "https://localhost:8080/"
        },
        "id": "u1fywisr9hiG",
        "outputId": "872881b8-8782-4905-9aba-626e2ba62214"
      },
      "execution_count": 66,
      "outputs": [
        {
          "output_type": "stream",
          "name": "stderr",
          "text": [
            "<ipython-input-66-f43f5e4a7410>:20: SettingWithCopyWarning: \n",
            "A value is trying to be set on a copy of a slice from a DataFrame.\n",
            "Try using .loc[row_indexer,col_indexer] = value instead\n",
            "\n",
            "See the caveats in the documentation: https://pandas.pydata.org/pandas-docs/stable/user_guide/indexing.html#returning-a-view-versus-a-copy\n",
            "  filtered_data['occ_date'] = filtered_data['occ_date'].apply(mdates.date2num)\n"
          ]
        }
      ]
    },
    {
      "cell_type": "code",
      "source": [
        "flat_count = count_per_cell_train.flatten()\n",
        "\n",
        "# Get the indices of the top 100 cells\n",
        "top_indices = np.argpartition(flat_count, -100)[-100:]\n",
        "\n",
        "# Convert flattened indices to 2D indices\n",
        "top_indices_2d = np.unravel_index(top_indices, count_per_cell_train.shape)\n",
        "\n",
        "# Create a list of tuples containing (x_index, y_index, count) for the top cells\n",
        "top_cells_train = [(top_indices_2d[0][i], top_indices_2d[1][i], flat_count[top_indices[i]]) for i in range(len(top_indices))]\n",
        "\n",
        "# Display the top 100 cells\n",
        "print(\"Top 100 cells:\")\n",
        "for i, (x_idx, y_idx, count) in enumerate(top_cells_train, 1):\n",
        "    print(f\"  {i}. Cell ({x_idx + 1}, {y_idx + 1}) - Count: {count}\")"
      ],
      "metadata": {
        "colab": {
          "base_uri": "https://localhost:8080/"
        },
        "id": "jdBztETE9pvv",
        "outputId": "4f05645b-afe4-4769-cea1-cf1b19b4193b"
      },
      "execution_count": 67,
      "outputs": [
        {
          "output_type": "stream",
          "name": "stdout",
          "text": [
            "Top 100 cells:\n",
            "  1. Cell (115, 52) - Count: 90.0\n",
            "  2. Cell (132, 39) - Count: 98.0\n",
            "  3. Cell (108, 30) - Count: 104.0\n",
            "  4. Cell (64, 51) - Count: 219.0\n",
            "  5. Cell (133, 72) - Count: 91.0\n",
            "  6. Cell (67, 108) - Count: 154.0\n",
            "  7. Cell (109, 52) - Count: 108.0\n",
            "  8. Cell (117, 60) - Count: 153.0\n",
            "  9. Cell (67, 87) - Count: 120.0\n",
            "  10. Cell (80, 50) - Count: 95.0\n",
            "  11. Cell (79, 62) - Count: 94.0\n",
            "  12. Cell (143, 51) - Count: 117.0\n",
            "  13. Cell (127, 62) - Count: 94.0\n",
            "  14. Cell (78, 60) - Count: 127.0\n",
            "  15. Cell (109, 61) - Count: 123.0\n",
            "  16. Cell (68, 59) - Count: 92.0\n",
            "  17. Cell (108, 39) - Count: 174.0\n",
            "  18. Cell (69, 54) - Count: 162.0\n",
            "  19. Cell (108, 52) - Count: 93.0\n",
            "  20. Cell (69, 55) - Count: 333.0\n",
            "  21. Cell (60, 59) - Count: 104.0\n",
            "  22. Cell (60, 58) - Count: 131.0\n",
            "  23. Cell (60, 57) - Count: 171.0\n",
            "  24. Cell (60, 56) - Count: 153.0\n",
            "  25. Cell (69, 56) - Count: 170.0\n",
            "  26. Cell (126, 52) - Count: 93.0\n",
            "  27. Cell (109, 39) - Count: 149.0\n",
            "  28. Cell (64, 52) - Count: 180.0\n",
            "  29. Cell (74, 52) - Count: 245.0\n",
            "  30. Cell (108, 54) - Count: 95.0\n",
            "  31. Cell (68, 58) - Count: 176.0\n",
            "  32. Cell (66, 55) - Count: 139.0\n",
            "  33. Cell (66, 54) - Count: 159.0\n",
            "  34. Cell (118, 60) - Count: 141.0\n",
            "  35. Cell (126, 38) - Count: 147.0\n",
            "  36. Cell (68, 57) - Count: 111.0\n",
            "  37. Cell (63, 52) - Count: 109.0\n",
            "  38. Cell (108, 21) - Count: 102.0\n",
            "  39. Cell (99, 57) - Count: 101.0\n",
            "  40. Cell (68, 56) - Count: 141.0\n",
            "  41. Cell (63, 51) - Count: 246.0\n",
            "  42. Cell (67, 59) - Count: 94.0\n",
            "  43. Cell (66, 53) - Count: 411.0\n",
            "  44. Cell (68, 55) - Count: 288.0\n",
            "  45. Cell (110, 36) - Count: 227.0\n",
            "  46. Cell (67, 58) - Count: 229.0\n",
            "  47. Cell (68, 54) - Count: 312.0\n",
            "  48. Cell (62, 51) - Count: 113.0\n",
            "  49. Cell (65, 57) - Count: 96.0\n",
            "  50. Cell (125, 90) - Count: 97.0\n",
            "  51. Cell (137, 42) - Count: 158.0\n",
            "  52. Cell (118, 59) - Count: 117.0\n",
            "  53. Cell (74, 53) - Count: 155.0\n",
            "  54. Cell (70, 55) - Count: 125.0\n",
            "  55. Cell (127, 42) - Count: 95.0\n",
            "  56. Cell (143, 56) - Count: 113.0\n",
            "  57. Cell (62, 55) - Count: 187.0\n",
            "  58. Cell (68, 53) - Count: 127.0\n",
            "  59. Cell (35, 97) - Count: 108.0\n",
            "  60. Cell (62, 56) - Count: 106.0\n",
            "  61. Cell (57, 51) - Count: 116.0\n",
            "  62. Cell (143, 50) - Count: 258.0\n",
            "  63. Cell (67, 57) - Count: 239.0\n",
            "  64. Cell (67, 56) - Count: 229.0\n",
            "  65. Cell (77, 62) - Count: 148.0\n",
            "  66. Cell (75, 81) - Count: 94.0\n",
            "  67. Cell (77, 61) - Count: 343.0\n",
            "  68. Cell (68, 52) - Count: 184.0\n",
            "  69. Cell (65, 56) - Count: 103.0\n",
            "  70. Cell (92, 62) - Count: 114.0\n",
            "  71. Cell (148, 35) - Count: 97.0\n",
            "  72. Cell (65, 55) - Count: 212.0\n",
            "  73. Cell (64, 55) - Count: 165.0\n",
            "  74. Cell (67, 55) - Count: 265.0\n",
            "  75. Cell (142, 53) - Count: 95.0\n",
            "  76. Cell (74, 55) - Count: 116.0\n",
            "  77. Cell (65, 64) - Count: 91.0\n",
            "  78. Cell (59, 56) - Count: 136.0\n",
            "  79. Cell (67, 54) - Count: 105.0\n",
            "  80. Cell (66, 50) - Count: 90.0\n",
            "  81. Cell (110, 72) - Count: 122.0\n",
            "  82. Cell (61, 55) - Count: 92.0\n",
            "  83. Cell (65, 53) - Count: 126.0\n",
            "  84. Cell (113, 52) - Count: 91.0\n",
            "  85. Cell (65, 52) - Count: 142.0\n",
            "  86. Cell (75, 62) - Count: 126.0\n",
            "  87. Cell (67, 53) - Count: 345.0\n",
            "  88. Cell (66, 52) - Count: 113.0\n",
            "  89. Cell (69, 111) - Count: 118.0\n",
            "  90. Cell (61, 57) - Count: 122.0\n",
            "  91. Cell (116, 59) - Count: 330.0\n",
            "  92. Cell (66, 88) - Count: 136.0\n",
            "  93. Cell (72, 62) - Count: 175.0\n",
            "  94. Cell (126, 53) - Count: 172.0\n",
            "  95. Cell (67, 52) - Count: 158.0\n",
            "  96. Cell (64, 60) - Count: 95.0\n",
            "  97. Cell (72, 60) - Count: 117.0\n",
            "  98. Cell (113, 43) - Count: 150.0\n",
            "  99. Cell (90, 39) - Count: 122.0\n",
            "  100. Cell (74, 62) - Count: 134.0\n"
          ]
        }
      ]
    },
    {
      "cell_type": "code",
      "source": [
        "test_data = pd.read_csv('https://raw.githubusercontent.com/GVSU-CIS635/gvsu-cis635-term-project-team_crime-prediction/main/test3.csv')\n"
      ],
      "metadata": {
        "id": "NQmNqSlx93aC"
      },
      "execution_count": 68,
      "outputs": []
    },
    {
      "cell_type": "code",
      "source": [
        "start_date = pd.to_datetime('01/01/13', format='%m/%d/%y')\n",
        "end_date = pd.to_datetime('05/31/13', format='%m/%d/%y')\n",
        "\n",
        "# Convert 'occ_date' column to datetime format\n",
        "test_data['occ_date'] = pd.to_datetime(test_data['occ_date'], format='%m/%d/%y')\n",
        "\n",
        "# Filter the data based on the date range\n",
        "filtered_data = test_data[(test_data['occ_date'] >= start_date) & (test_data['occ_date'] <= end_date)]\n",
        "\n",
        "# Convert 'occ_date' column to numerical format if needed\n",
        "filtered_data['occ_date'] = filtered_data['occ_date'].apply(mdates.date2num)\n",
        "\n",
        "# Assign points to the grid\n",
        "points = filtered_data[['x_coordinate', 'y_coordinate', 'occ_date']].values\n",
        "count_per_cell_test = countcells(points)"
      ],
      "metadata": {
        "colab": {
          "base_uri": "https://localhost:8080/"
        },
        "id": "xDav-kCy94Dr",
        "outputId": "b2739f75-0833-4ef8-d1ae-985976c7d61c"
      },
      "execution_count": 79,
      "outputs": [
        {
          "output_type": "stream",
          "name": "stderr",
          "text": [
            "<ipython-input-79-f1ff29951781>:11: SettingWithCopyWarning: \n",
            "A value is trying to be set on a copy of a slice from a DataFrame.\n",
            "Try using .loc[row_indexer,col_indexer] = value instead\n",
            "\n",
            "See the caveats in the documentation: https://pandas.pydata.org/pandas-docs/stable/user_guide/indexing.html#returning-a-view-versus-a-copy\n",
            "  filtered_data['occ_date'] = filtered_data['occ_date'].apply(mdates.date2num)\n"
          ]
        }
      ]
    },
    {
      "cell_type": "code",
      "source": [
        "flat_count = count_per_cell_test.flatten()\n",
        "\n",
        "# Get the indices of the top 100 cells\n",
        "top_indices = np.argpartition(flat_count, -100)[-100:]\n",
        "\n",
        "# Convert flattened indices to 2D indices\n",
        "top_indices_2d = np.unravel_index(top_indices, count_per_cell_test.shape)\n",
        "\n",
        "# Create a list of tuples containing (x_index, y_index, count) for the top cells\n",
        "top_cells_test = [(top_indices_2d[0][i], top_indices_2d[1][i], flat_count[top_indices[i]]) for i in range(len(top_indices))]\n",
        "\n",
        "# Display the top 100 cells\n",
        "print(\"Top 100 cells:\")\n",
        "for i, (x_idx, y_idx, count) in enumerate(top_cells_test, 1):\n",
        "    print(f\"  {i}. Cell ({x_idx + 1}, {y_idx + 1}) - Count: {count}\")"
      ],
      "metadata": {
        "colab": {
          "base_uri": "https://localhost:8080/"
        },
        "id": "-s12FQgv97LB",
        "outputId": "a95a73d0-c0f6-411f-ee23-e7ef60b949a4"
      },
      "execution_count": 80,
      "outputs": [
        {
          "output_type": "stream",
          "name": "stdout",
          "text": [
            "Top 100 cells:\n",
            "  1. Cell (113, 52) - Count: 68.0\n",
            "  2. Cell (89, 48) - Count: 68.0\n",
            "  3. Cell (62, 56) - Count: 69.0\n",
            "  4. Cell (115, 52) - Count: 69.0\n",
            "  5. Cell (108, 54) - Count: 69.0\n",
            "  6. Cell (58, 58) - Count: 71.0\n",
            "  7. Cell (79, 62) - Count: 71.0\n",
            "  8. Cell (60, 58) - Count: 70.0\n",
            "  9. Cell (138, 51) - Count: 71.0\n",
            "  10. Cell (63, 51) - Count: 196.0\n",
            "  11. Cell (63, 52) - Count: 90.0\n",
            "  12. Cell (67, 108) - Count: 74.0\n",
            "  13. Cell (108, 39) - Count: 142.0\n",
            "  14. Cell (99, 57) - Count: 74.0\n",
            "  15. Cell (126, 38) - Count: 100.0\n",
            "  16. Cell (125, 38) - Count: 91.0\n",
            "  17. Cell (108, 30) - Count: 78.0\n",
            "  18. Cell (67, 87) - Count: 105.0\n",
            "  19. Cell (125, 42) - Count: 77.0\n",
            "  20. Cell (109, 39) - Count: 104.0\n",
            "  21. Cell (74, 52) - Count: 171.0\n",
            "  22. Cell (74, 53) - Count: 131.0\n",
            "  23. Cell (143, 51) - Count: 73.0\n",
            "  24. Cell (113, 43) - Count: 103.0\n",
            "  25. Cell (108, 21) - Count: 95.0\n",
            "  26. Cell (143, 50) - Count: 148.0\n",
            "  27. Cell (74, 55) - Count: 99.0\n",
            "  28. Cell (109, 61) - Count: 82.0\n",
            "  29. Cell (117, 50) - Count: 80.0\n",
            "  30. Cell (62, 55) - Count: 126.0\n",
            "  31. Cell (68, 52) - Count: 86.0\n",
            "  32. Cell (68, 53) - Count: 95.0\n",
            "  33. Cell (68, 54) - Count: 196.0\n",
            "  34. Cell (68, 55) - Count: 176.0\n",
            "  35. Cell (90, 39) - Count: 91.0\n",
            "  36. Cell (74, 60) - Count: 94.0\n",
            "  37. Cell (137, 42) - Count: 154.0\n",
            "  38. Cell (68, 57) - Count: 110.0\n",
            "  39. Cell (68, 58) - Count: 152.0\n",
            "  40. Cell (66, 88) - Count: 108.0\n",
            "  41. Cell (67, 59) - Count: 93.0\n",
            "  42. Cell (72, 62) - Count: 84.0\n",
            "  43. Cell (72, 60) - Count: 114.0\n",
            "  44. Cell (72, 59) - Count: 72.0\n",
            "  45. Cell (66, 55) - Count: 84.0\n",
            "  46. Cell (66, 54) - Count: 92.0\n",
            "  47. Cell (66, 53) - Count: 268.0\n",
            "  48. Cell (66, 52) - Count: 91.0\n",
            "  49. Cell (67, 58) - Count: 162.0\n",
            "  50. Cell (126, 52) - Count: 94.0\n",
            "  51. Cell (74, 62) - Count: 117.0\n",
            "  52. Cell (148, 35) - Count: 75.0\n",
            "  53. Cell (116, 59) - Count: 293.0\n",
            "  54. Cell (91, 61) - Count: 78.0\n",
            "  55. Cell (69, 54) - Count: 101.0\n",
            "  56. Cell (69, 55) - Count: 322.0\n",
            "  57. Cell (67, 57) - Count: 163.0\n",
            "  58. Cell (69, 56) - Count: 146.0\n",
            "  59. Cell (69, 57) - Count: 73.0\n",
            "  60. Cell (67, 56) - Count: 204.0\n",
            "  61. Cell (132, 39) - Count: 87.0\n",
            "  62. Cell (75, 62) - Count: 72.0\n",
            "  63. Cell (67, 55) - Count: 194.0\n",
            "  64. Cell (67, 54) - Count: 127.0\n",
            "  65. Cell (64, 56) - Count: 73.0\n",
            "  66. Cell (64, 55) - Count: 152.0\n",
            "  67. Cell (67, 53) - Count: 260.0\n",
            "  68. Cell (64, 52) - Count: 123.0\n",
            "  69. Cell (64, 51) - Count: 145.0\n",
            "  70. Cell (67, 52) - Count: 91.0\n",
            "  71. Cell (142, 51) - Count: 79.0\n",
            "  72. Cell (74, 77) - Count: 72.0\n",
            "  73. Cell (64, 47) - Count: 87.0\n",
            "  74. Cell (117, 60) - Count: 90.0\n",
            "  75. Cell (58, 56) - Count: 76.0\n",
            "  76. Cell (59, 57) - Count: 72.0\n",
            "  77. Cell (65, 52) - Count: 99.0\n",
            "  78. Cell (60, 56) - Count: 141.0\n",
            "  79. Cell (112, 39) - Count: 84.0\n",
            "  80. Cell (65, 53) - Count: 124.0\n",
            "  81. Cell (60, 57) - Count: 94.0\n",
            "  82. Cell (126, 53) - Count: 148.0\n",
            "  83. Cell (77, 62) - Count: 99.0\n",
            "  84. Cell (77, 61) - Count: 245.0\n",
            "  85. Cell (62, 51) - Count: 83.0\n",
            "  86. Cell (126, 54) - Count: 81.0\n",
            "  87. Cell (127, 42) - Count: 99.0\n",
            "  88. Cell (59, 56) - Count: 105.0\n",
            "  89. Cell (110, 36) - Count: 236.0\n",
            "  90. Cell (118, 59) - Count: 104.0\n",
            "  91. Cell (61, 57) - Count: 102.0\n",
            "  92. Cell (58, 57) - Count: 80.0\n",
            "  93. Cell (70, 55) - Count: 103.0\n",
            "  94. Cell (65, 54) - Count: 75.0\n",
            "  95. Cell (58, 59) - Count: 78.0\n",
            "  96. Cell (65, 55) - Count: 172.0\n",
            "  97. Cell (126, 55) - Count: 96.0\n",
            "  98. Cell (65, 56) - Count: 94.0\n",
            "  99. Cell (127, 62) - Count: 96.0\n",
            "  100. Cell (68, 56) - Count: 108.0\n"
          ]
        }
      ]
    },
    {
      "cell_type": "code",
      "source": [
        "def calcualte_PAI(n, N, a, A):\n",
        "    return (n/N)/(a/A)\n",
        "def calculate_PEI(PAI,n,N,a,A):\n",
        "    return PAI/((n/N)/(a/A))\n",
        "# Calculate the sum of counts using indices from the last layer\n",
        "total_top_count_last_layer = np.sum(count_per_cell_test[cell[0], cell[1]] for cell in top_cells_train)\n",
        "\n",
        "# Calculate the sum of counts for the actual top 100 cells of the next layer\n",
        "total_top_count_actual = np.sum(top_cells_test)\n",
        "\n",
        "sum_of_train = np.sum(count_per_cell_train)\n",
        "sum_of_test = np.sum(count_per_cell_test)\n",
        "print(f\"  Total count using indices from the last layer: {total_top_count_last_layer}\")\n",
        "print(f\"  Total count for the actual top 100 cells: {total_top_count_actual}\")\n",
        "print(f\"  Sum of Points: {sum_of_train} points\")\n",
        "pai = calcualte_PAI(total_top_count_last_layer,sum_of_test,100,num_cells_x*num_cells_y)\n",
        "pei = calculate_PEI(pai,total_top_count_actual,sum_of_test,100,num_cells_x*num_cells_y)\n",
        "print(f\"  PEI: {pei}\\n\")"
      ],
      "metadata": {
        "colab": {
          "base_uri": "https://localhost:8080/"
        },
        "id": "y-xGfRjH-Vdp",
        "outputId": "b5a64aea-5c2a-46b9-f869-83f92228c46e"
      },
      "execution_count": 81,
      "outputs": [
        {
          "output_type": "stream",
          "name": "stdout",
          "text": [
            "  Total count using indices from the last layer: 10872.0\n",
            "  Total count for the actual top 100 cells: 25115.0\n",
            "  Sum of Points: 89922.0 points\n",
            "  PEI: 0.4328887119251443\n",
            "\n"
          ]
        },
        {
          "output_type": "stream",
          "name": "stderr",
          "text": [
            "<ipython-input-81-64f9ad5ebf5a>:6: DeprecationWarning: Calling np.sum(generator) is deprecated, and in the future will give a different result. Use np.sum(np.fromiter(generator)) or the python sum builtin instead.\n",
            "  total_top_count_last_layer = np.sum(count_per_cell_test[cell[0], cell[1]] for cell in top_cells_train)\n"
          ]
        }
      ]
    }
  ]
}